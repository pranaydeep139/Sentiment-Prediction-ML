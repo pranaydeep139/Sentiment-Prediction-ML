{
 "cells": [
  {
   "cell_type": "code",
   "execution_count": 1,
   "id": "0f8bd21d",
   "metadata": {
    "_cell_guid": "b1076dfc-b9ad-4769-8c92-a6c4dae69d19",
    "_uuid": "8f2839f25d086af736a60e9eeb907d3b93b6e0e5",
    "execution": {
     "iopub.execute_input": "2023-08-15T13:26:21.171700Z",
     "iopub.status.busy": "2023-08-15T13:26:21.171246Z",
     "iopub.status.idle": "2023-08-15T13:26:21.184616Z",
     "shell.execute_reply": "2023-08-15T13:26:21.182996Z"
    },
    "papermill": {
     "duration": 0.027232,
     "end_time": "2023-08-15T13:26:21.187977",
     "exception": false,
     "start_time": "2023-08-15T13:26:21.160745",
     "status": "completed"
    },
    "tags": []
   },
   "outputs": [
    {
     "name": "stdout",
     "output_type": "stream",
     "text": [
      "/kaggle/input/sentiment-prediction-on-movie-reviews/movies.csv\n",
      "/kaggle/input/sentiment-prediction-on-movie-reviews/sample.csv\n",
      "/kaggle/input/sentiment-prediction-on-movie-reviews/train.csv\n",
      "/kaggle/input/sentiment-prediction-on-movie-reviews/test.csv\n"
     ]
    }
   ],
   "source": [
    "# This Python 3 environment comes with many helpful analytics libraries installed\n",
    "# It is defined by the kaggle/python Docker image: https://github.com/kaggle/docker-python\n",
    "# For example, here's several helpful packages to load\n",
    "\n",
    "import numpy as np # linear algebra\n",
    "import pandas as pd # data processing, CSV file I/O (e.g. pd.read_csv)\n",
    "\n",
    "# Input data files are available in the read-only \"../input/\" directory\n",
    "# For example, running this (by clicking run or pressing Shift+Enter) will list all files under the input directory\n",
    "\n",
    "import os\n",
    "for dirname, _, filenames in os.walk('/kaggle/input'):\n",
    "    for filename in filenames:\n",
    "        print(os.path.join(dirname, filename))\n",
    "\n",
    "# You can write up to 20GB to the current directory (/kaggle/working/) that gets preserved as output when you create a version using \"Save & Run All\" \n",
    "# You can also write temporary files to /kaggle/temp/, but they won't be saved outside of the current session"
   ]
  },
  {
   "cell_type": "markdown",
   "id": "7f1f8474",
   "metadata": {
    "papermill": {
     "duration": 0.008471,
     "end_time": "2023-08-15T13:26:21.206507",
     "exception": false,
     "start_time": "2023-08-15T13:26:21.198036",
     "status": "completed"
    },
    "tags": []
   },
   "source": [
    "**Importing required libraries**"
   ]
  },
  {
   "cell_type": "code",
   "execution_count": 2,
   "id": "504ebe16",
   "metadata": {
    "execution": {
     "iopub.execute_input": "2023-08-15T13:26:21.225914Z",
     "iopub.status.busy": "2023-08-15T13:26:21.225537Z",
     "iopub.status.idle": "2023-08-15T13:26:23.755543Z",
     "shell.execute_reply": "2023-08-15T13:26:23.754301Z"
    },
    "papermill": {
     "duration": 2.542031,
     "end_time": "2023-08-15T13:26:23.758239",
     "exception": false,
     "start_time": "2023-08-15T13:26:21.216208",
     "status": "completed"
    },
    "tags": []
   },
   "outputs": [],
   "source": [
    "import string\n",
    "import time\n",
    "import matplotlib.pyplot as plt\n",
    "import seaborn as sns\n",
    "from sklearn.feature_extraction.text import TfidfVectorizer\n",
    "from sklearn.decomposition import PCA\n",
    "from sklearn.linear_model import LogisticRegression\n",
    "from sklearn.svm import SVC\n",
    "from sklearn.ensemble import GradientBoostingClassifier\n",
    "from sklearn.naive_bayes import MultinomialNB\n",
    "from sklearn.tree import DecisionTreeClassifier\n",
    "from xgboost import XGBClassifier\n",
    "from sklearn.preprocessing import MinMaxScaler, LabelEncoder\n",
    "from imblearn.over_sampling import SMOTE\n",
    "from sklearn.model_selection import train_test_split, GridSearchCV, RandomizedSearchCV\n",
    "from sklearn.metrics import f1_score, make_scorer"
   ]
  },
  {
   "cell_type": "markdown",
   "id": "962d88f3",
   "metadata": {
    "papermill": {
     "duration": 0.007804,
     "end_time": "2023-08-15T13:26:23.774440",
     "exception": false,
     "start_time": "2023-08-15T13:26:23.766636",
     "status": "completed"
    },
    "tags": []
   },
   "source": [
    "**Loading train and movie datasets**"
   ]
  },
  {
   "cell_type": "code",
   "execution_count": 3,
   "id": "1815dfc6",
   "metadata": {
    "execution": {
     "iopub.execute_input": "2023-08-15T13:26:23.792605Z",
     "iopub.status.busy": "2023-08-15T13:26:23.792230Z",
     "iopub.status.idle": "2023-08-15T13:26:25.367468Z",
     "shell.execute_reply": "2023-08-15T13:26:25.366092Z"
    },
    "papermill": {
     "duration": 1.587355,
     "end_time": "2023-08-15T13:26:25.369827",
     "exception": false,
     "start_time": "2023-08-15T13:26:23.782472",
     "status": "completed"
    },
    "tags": []
   },
   "outputs": [],
   "source": [
    "train = pd.read_csv('/kaggle/input/sentiment-prediction-on-movie-reviews/train.csv')\n",
    "movie = pd.read_csv('/kaggle/input/sentiment-prediction-on-movie-reviews/movies.csv')"
   ]
  },
  {
   "cell_type": "markdown",
   "id": "88388540",
   "metadata": {
    "papermill": {
     "duration": 0.007843,
     "end_time": "2023-08-15T13:26:25.386208",
     "exception": false,
     "start_time": "2023-08-15T13:26:25.378365",
     "status": "completed"
    },
    "tags": []
   },
   "source": [
    "**Joining train and movie datasets**"
   ]
  },
  {
   "cell_type": "code",
   "execution_count": 4,
   "id": "7040b6fe",
   "metadata": {
    "execution": {
     "iopub.execute_input": "2023-08-15T13:26:25.404499Z",
     "iopub.status.busy": "2023-08-15T13:26:25.404111Z",
     "iopub.status.idle": "2023-08-15T13:26:25.694243Z",
     "shell.execute_reply": "2023-08-15T13:26:25.692796Z"
    },
    "papermill": {
     "duration": 0.301784,
     "end_time": "2023-08-15T13:26:25.696240",
     "exception": false,
     "start_time": "2023-08-15T13:26:25.394456",
     "status": "completed"
    },
    "tags": []
   },
   "outputs": [
    {
     "name": "stdout",
     "output_type": "stream",
     "text": [
      "(162758, 18)\n"
     ]
    },
    {
     "data": {
      "text/plain": [
       "movieid                  object\n",
       "reviewerName             object\n",
       "isFrequentReviewer         bool\n",
       "reviewText               object\n",
       "sentiment                object\n",
       "title                    object\n",
       "audienceScore           float64\n",
       "rating                   object\n",
       "ratingContents           object\n",
       "releaseDateTheaters      object\n",
       "releaseDateStreaming     object\n",
       "runtimeMinutes          float64\n",
       "genre                    object\n",
       "originalLanguage         object\n",
       "director                 object\n",
       "boxOffice                object\n",
       "distributor              object\n",
       "soundType                object\n",
       "dtype: object"
      ]
     },
     "execution_count": 4,
     "metadata": {},
     "output_type": "execute_result"
    }
   ],
   "source": [
    "mid = 'movieid'\n",
    "mov = movie.drop_duplicates(subset=mid, keep='first')\n",
    "join = train.merge(mov, on='movieid', how='left')\n",
    "print(join.shape)\n",
    "join.dtypes "
   ]
  },
  {
   "cell_type": "markdown",
   "id": "9b6150ce",
   "metadata": {
    "papermill": {
     "duration": 0.007704,
     "end_time": "2023-08-15T13:26:25.712343",
     "exception": false,
     "start_time": "2023-08-15T13:26:25.704639",
     "status": "completed"
    },
    "tags": []
   },
   "source": [
    "**Dropping unimportant columns**"
   ]
  },
  {
   "cell_type": "code",
   "execution_count": 5,
   "id": "6420bb85",
   "metadata": {
    "execution": {
     "iopub.execute_input": "2023-08-15T13:26:25.730279Z",
     "iopub.status.busy": "2023-08-15T13:26:25.729902Z",
     "iopub.status.idle": "2023-08-15T13:26:25.878155Z",
     "shell.execute_reply": "2023-08-15T13:26:25.877156Z"
    },
    "papermill": {
     "duration": 0.160056,
     "end_time": "2023-08-15T13:26:25.880541",
     "exception": false,
     "start_time": "2023-08-15T13:26:25.720485",
     "status": "completed"
    },
    "tags": []
   },
   "outputs": [
    {
     "name": "stdout",
     "output_type": "stream",
     "text": [
      "(156311, 10)\n",
      "isTopCritic            bool\n",
      "reviewText           object\n",
      "sentiment            object\n",
      "audienceScore       float64\n",
      "rating               object\n",
      "ratingContents       object\n",
      "runtimeMinutes      float64\n",
      "genre                object\n",
      "originalLanguage     object\n",
      "boxOffice            object\n",
      "dtype: object\n"
     ]
    },
    {
     "data": {
      "text/html": [
       "<div>\n",
       "<style scoped>\n",
       "    .dataframe tbody tr th:only-of-type {\n",
       "        vertical-align: middle;\n",
       "    }\n",
       "\n",
       "    .dataframe tbody tr th {\n",
       "        vertical-align: top;\n",
       "    }\n",
       "\n",
       "    .dataframe thead th {\n",
       "        text-align: right;\n",
       "    }\n",
       "</style>\n",
       "<table border=\"1\" class=\"dataframe\">\n",
       "  <thead>\n",
       "    <tr style=\"text-align: right;\">\n",
       "      <th></th>\n",
       "      <th>isTopCritic</th>\n",
       "      <th>reviewText</th>\n",
       "      <th>sentiment</th>\n",
       "      <th>audienceScore</th>\n",
       "      <th>rating</th>\n",
       "      <th>ratingContents</th>\n",
       "      <th>runtimeMinutes</th>\n",
       "      <th>genre</th>\n",
       "      <th>originalLanguage</th>\n",
       "      <th>boxOffice</th>\n",
       "    </tr>\n",
       "  </thead>\n",
       "  <tbody>\n",
       "    <tr>\n",
       "      <th>0</th>\n",
       "      <td>False</td>\n",
       "      <td>Henry Selick’s first movie since 2009’s Corali...</td>\n",
       "      <td>POSITIVE</td>\n",
       "      <td>65.0</td>\n",
       "      <td>PG-13</td>\n",
       "      <td>['Violence', 'Brief Strong Language', 'Substan...</td>\n",
       "      <td>105.0</td>\n",
       "      <td>Comedy, Animation, Adventure, Fantasy</td>\n",
       "      <td>English</td>\n",
       "      <td>NaN</td>\n",
       "    </tr>\n",
       "    <tr>\n",
       "      <th>1</th>\n",
       "      <td>False</td>\n",
       "      <td>With a cast that reads like the Vogue Oscar pa...</td>\n",
       "      <td>NEGATIVE</td>\n",
       "      <td>NaN</td>\n",
       "      <td>NaN</td>\n",
       "      <td>NaN</td>\n",
       "      <td>91.0</td>\n",
       "      <td>Action</td>\n",
       "      <td>English</td>\n",
       "      <td>NaN</td>\n",
       "    </tr>\n",
       "    <tr>\n",
       "      <th>2</th>\n",
       "      <td>True</td>\n",
       "      <td>Creed II does not give us anything but another...</td>\n",
       "      <td>POSITIVE</td>\n",
       "      <td>80.0</td>\n",
       "      <td>PG-13</td>\n",
       "      <td>['Language', 'A Scene of Sensuality', 'Sports ...</td>\n",
       "      <td>130.0</td>\n",
       "      <td>Drama</td>\n",
       "      <td>English</td>\n",
       "      <td>$115.7M</td>\n",
       "    </tr>\n",
       "    <tr>\n",
       "      <th>3</th>\n",
       "      <td>False</td>\n",
       "      <td>I know what you're thinking, but this is no Li...</td>\n",
       "      <td>POSITIVE</td>\n",
       "      <td>NaN</td>\n",
       "      <td>NaN</td>\n",
       "      <td>NaN</td>\n",
       "      <td>15.0</td>\n",
       "      <td>Drama</td>\n",
       "      <td>Spanish</td>\n",
       "      <td>NaN</td>\n",
       "    </tr>\n",
       "    <tr>\n",
       "      <th>4</th>\n",
       "      <td>False</td>\n",
       "      <td>Director Fernando Meirelles tells the story wi...</td>\n",
       "      <td>POSITIVE</td>\n",
       "      <td>97.0</td>\n",
       "      <td>R</td>\n",
       "      <td>['Language', 'Drug Content', 'Sexuality', 'Str...</td>\n",
       "      <td>131.0</td>\n",
       "      <td>Crime, Drama</td>\n",
       "      <td>Portuguese (Brazil)</td>\n",
       "      <td>$7.6M</td>\n",
       "    </tr>\n",
       "  </tbody>\n",
       "</table>\n",
       "</div>"
      ],
      "text/plain": [
       "   isTopCritic                                         reviewText sentiment  \\\n",
       "0        False  Henry Selick’s first movie since 2009’s Corali...  POSITIVE   \n",
       "1        False  With a cast that reads like the Vogue Oscar pa...  NEGATIVE   \n",
       "2         True  Creed II does not give us anything but another...  POSITIVE   \n",
       "3        False  I know what you're thinking, but this is no Li...  POSITIVE   \n",
       "4        False  Director Fernando Meirelles tells the story wi...  POSITIVE   \n",
       "\n",
       "   audienceScore rating                                     ratingContents  \\\n",
       "0           65.0  PG-13  ['Violence', 'Brief Strong Language', 'Substan...   \n",
       "1            NaN    NaN                                                NaN   \n",
       "2           80.0  PG-13  ['Language', 'A Scene of Sensuality', 'Sports ...   \n",
       "3            NaN    NaN                                                NaN   \n",
       "4           97.0      R  ['Language', 'Drug Content', 'Sexuality', 'Str...   \n",
       "\n",
       "   runtimeMinutes                                  genre     originalLanguage  \\\n",
       "0           105.0  Comedy, Animation, Adventure, Fantasy              English   \n",
       "1            91.0                                 Action              English   \n",
       "2           130.0                                  Drama              English   \n",
       "3            15.0                                  Drama              Spanish   \n",
       "4           131.0                           Crime, Drama  Portuguese (Brazil)   \n",
       "\n",
       "  boxOffice  \n",
       "0       NaN  \n",
       "1       NaN  \n",
       "2   $115.7M  \n",
       "3       NaN  \n",
       "4     $7.6M  "
      ]
     },
     "execution_count": 5,
     "metadata": {},
     "output_type": "execute_result"
    }
   ],
   "source": [
    "join = join.drop(columns=['movieid', 'reviewerName', 'title', 'releaseDateTheaters', 'releaseDateStreaming', 'director', 'distributor', 'soundType'])\n",
    "join = join.rename(columns={'isFrequentReviewer': 'isTopCritic'})\n",
    "join = join.dropna(subset=['reviewText'])\n",
    "print(join.shape)\n",
    "print(join.dtypes)\n",
    "join.head()"
   ]
  },
  {
   "cell_type": "code",
   "execution_count": 6,
   "id": "f00f2359",
   "metadata": {
    "execution": {
     "iopub.execute_input": "2023-08-15T13:26:25.899623Z",
     "iopub.status.busy": "2023-08-15T13:26:25.899188Z",
     "iopub.status.idle": "2023-08-15T13:26:26.062120Z",
     "shell.execute_reply": "2023-08-15T13:26:26.060581Z"
    },
    "papermill": {
     "duration": 0.175091,
     "end_time": "2023-08-15T13:26:26.064515",
     "exception": false,
     "start_time": "2023-08-15T13:26:25.889424",
     "status": "completed"
    },
    "tags": []
   },
   "outputs": [
    {
     "data": {
      "text/plain": [
       "isTopCritic              2\n",
       "reviewText          155071\n",
       "sentiment                2\n",
       "audienceScore           99\n",
       "rating                   7\n",
       "ratingContents        4460\n",
       "runtimeMinutes         216\n",
       "genre                 1157\n",
       "originalLanguage        91\n",
       "boxOffice             3481\n",
       "dtype: int64"
      ]
     },
     "execution_count": 6,
     "metadata": {},
     "output_type": "execute_result"
    }
   ],
   "source": [
    "join.nunique()"
   ]
  },
  {
   "cell_type": "code",
   "execution_count": 7,
   "id": "35144bd8",
   "metadata": {
    "execution": {
     "iopub.execute_input": "2023-08-15T13:26:26.083990Z",
     "iopub.status.busy": "2023-08-15T13:26:26.083561Z",
     "iopub.status.idle": "2023-08-15T13:26:26.117332Z",
     "shell.execute_reply": "2023-08-15T13:26:26.116619Z"
    },
    "papermill": {
     "duration": 0.045943,
     "end_time": "2023-08-15T13:26:26.119393",
     "exception": false,
     "start_time": "2023-08-15T13:26:26.073450",
     "status": "completed"
    },
    "tags": []
   },
   "outputs": [
    {
     "name": "stdout",
     "output_type": "stream",
     "text": [
      "isTopCritic: False    107748\n",
      "True      48563\n",
      "Name: isTopCritic, dtype: int64\n",
      "sentiment: POSITIVE    104719\n",
      "NEGATIVE     51592\n",
      "Name: sentiment, dtype: int64\n",
      "rating: R        49383\n",
      "PG-13    35801\n",
      "PG       11519\n",
      "NC-17      197\n",
      "TVPG       188\n",
      "TV14       139\n",
      "TVMA        41\n",
      "Name: rating, dtype: int64\n",
      "originalLanguage: English                     127229\n",
      "French (France)               3250\n",
      "English (United Kingdom)      3172\n",
      "French (Canada)               2101\n",
      "Japanese                      1834\n",
      "                             ...  \n",
      "Irish                            3\n",
      "Slovenian                        2\n",
      "Somali                           2\n",
      "Latvian                          1\n",
      "Azerbaijani                      1\n",
      "Name: originalLanguage, Length: 91, dtype: int64\n"
     ]
    }
   ],
   "source": [
    "print('isTopCritic:', join['isTopCritic'].value_counts())\n",
    "print('sentiment:', join['sentiment'].value_counts())\n",
    "print('rating:', join['rating'].value_counts())\n",
    "print('originalLanguage:', join['originalLanguage'].value_counts())"
   ]
  },
  {
   "cell_type": "markdown",
   "id": "e4fc7471",
   "metadata": {
    "papermill": {
     "duration": 0.009452,
     "end_time": "2023-08-15T13:26:26.138003",
     "exception": false,
     "start_time": "2023-08-15T13:26:26.128551",
     "status": "completed"
    },
    "tags": []
   },
   "source": [
    "**Concatenating \"reviewText\" and \"ratingContents\" into a single text column**"
   ]
  },
  {
   "cell_type": "code",
   "execution_count": 8,
   "id": "d569e1ae",
   "metadata": {
    "execution": {
     "iopub.execute_input": "2023-08-15T13:26:26.160073Z",
     "iopub.status.busy": "2023-08-15T13:26:26.159584Z",
     "iopub.status.idle": "2023-08-15T13:26:27.542611Z",
     "shell.execute_reply": "2023-08-15T13:26:27.541445Z"
    },
    "papermill": {
     "duration": 1.396989,
     "end_time": "2023-08-15T13:26:27.545185",
     "exception": false,
     "start_time": "2023-08-15T13:26:26.148196",
     "status": "completed"
    },
    "tags": []
   },
   "outputs": [
    {
     "data": {
      "text/html": [
       "<div>\n",
       "<style scoped>\n",
       "    .dataframe tbody tr th:only-of-type {\n",
       "        vertical-align: middle;\n",
       "    }\n",
       "\n",
       "    .dataframe tbody tr th {\n",
       "        vertical-align: top;\n",
       "    }\n",
       "\n",
       "    .dataframe thead th {\n",
       "        text-align: right;\n",
       "    }\n",
       "</style>\n",
       "<table border=\"1\" class=\"dataframe\">\n",
       "  <thead>\n",
       "    <tr style=\"text-align: right;\">\n",
       "      <th></th>\n",
       "      <th>isTopCritic</th>\n",
       "      <th>sentiment</th>\n",
       "      <th>audienceScore</th>\n",
       "      <th>rating</th>\n",
       "      <th>runtimeMinutes</th>\n",
       "      <th>genre</th>\n",
       "      <th>originalLanguage</th>\n",
       "      <th>boxOffice</th>\n",
       "      <th>com_col</th>\n",
       "    </tr>\n",
       "  </thead>\n",
       "  <tbody>\n",
       "    <tr>\n",
       "      <th>0</th>\n",
       "      <td>False</td>\n",
       "      <td>POSITIVE</td>\n",
       "      <td>65.0</td>\n",
       "      <td>PG-13</td>\n",
       "      <td>105.0</td>\n",
       "      <td>Comedy, Animation, Adventure, Fantasy</td>\n",
       "      <td>English</td>\n",
       "      <td>NaN</td>\n",
       "      <td>Henry Selick’s first movie since 2009’s Corali...</td>\n",
       "    </tr>\n",
       "    <tr>\n",
       "      <th>1</th>\n",
       "      <td>False</td>\n",
       "      <td>NEGATIVE</td>\n",
       "      <td>NaN</td>\n",
       "      <td>NaN</td>\n",
       "      <td>91.0</td>\n",
       "      <td>Action</td>\n",
       "      <td>English</td>\n",
       "      <td>NaN</td>\n",
       "      <td>With a cast that reads like the Vogue Oscar pa...</td>\n",
       "    </tr>\n",
       "    <tr>\n",
       "      <th>2</th>\n",
       "      <td>True</td>\n",
       "      <td>POSITIVE</td>\n",
       "      <td>80.0</td>\n",
       "      <td>PG-13</td>\n",
       "      <td>130.0</td>\n",
       "      <td>Drama</td>\n",
       "      <td>English</td>\n",
       "      <td>$115.7M</td>\n",
       "      <td>Creed II does not give us anything but another...</td>\n",
       "    </tr>\n",
       "    <tr>\n",
       "      <th>3</th>\n",
       "      <td>False</td>\n",
       "      <td>POSITIVE</td>\n",
       "      <td>NaN</td>\n",
       "      <td>NaN</td>\n",
       "      <td>15.0</td>\n",
       "      <td>Drama</td>\n",
       "      <td>Spanish</td>\n",
       "      <td>NaN</td>\n",
       "      <td>I know what youre thinking but this is no Limi...</td>\n",
       "    </tr>\n",
       "    <tr>\n",
       "      <th>4</th>\n",
       "      <td>False</td>\n",
       "      <td>POSITIVE</td>\n",
       "      <td>97.0</td>\n",
       "      <td>R</td>\n",
       "      <td>131.0</td>\n",
       "      <td>Crime, Drama</td>\n",
       "      <td>Portuguese (Brazil)</td>\n",
       "      <td>$7.6M</td>\n",
       "      <td>Director Fernando Meirelles tells the story wi...</td>\n",
       "    </tr>\n",
       "  </tbody>\n",
       "</table>\n",
       "</div>"
      ],
      "text/plain": [
       "   isTopCritic sentiment  audienceScore rating  runtimeMinutes  \\\n",
       "0        False  POSITIVE           65.0  PG-13           105.0   \n",
       "1        False  NEGATIVE            NaN    NaN            91.0   \n",
       "2         True  POSITIVE           80.0  PG-13           130.0   \n",
       "3        False  POSITIVE            NaN    NaN            15.0   \n",
       "4        False  POSITIVE           97.0      R           131.0   \n",
       "\n",
       "                                   genre     originalLanguage boxOffice  \\\n",
       "0  Comedy, Animation, Adventure, Fantasy              English       NaN   \n",
       "1                                 Action              English       NaN   \n",
       "2                                  Drama              English   $115.7M   \n",
       "3                                  Drama              Spanish       NaN   \n",
       "4                           Crime, Drama  Portuguese (Brazil)     $7.6M   \n",
       "\n",
       "                                             com_col  \n",
       "0  Henry Selick’s first movie since 2009’s Corali...  \n",
       "1  With a cast that reads like the Vogue Oscar pa...  \n",
       "2  Creed II does not give us anything but another...  \n",
       "3  I know what youre thinking but this is no Limi...  \n",
       "4  Director Fernando Meirelles tells the story wi...  "
      ]
     },
     "execution_count": 8,
     "metadata": {},
     "output_type": "execute_result"
    }
   ],
   "source": [
    "join[\"ratingContents\"] = join[\"ratingContents\"].fillna(\"the\")\n",
    "\n",
    "def remove_punctuations(text):\n",
    "    return text.translate(str.maketrans('', '', string.punctuation))\n",
    "\n",
    "join[\"reviewText\"] = join[\"reviewText\"].apply(remove_punctuations)\n",
    "join[\"ratingContents\"] = join[\"ratingContents\"].apply(remove_punctuations)\n",
    "\n",
    "join['com_col'] = join['reviewText'] + ' '+ join['ratingContents']\n",
    "join = join.drop(columns=['reviewText','ratingContents'])\n",
    "join.head()"
   ]
  },
  {
   "cell_type": "code",
   "execution_count": 9,
   "id": "42f85e17",
   "metadata": {
    "execution": {
     "iopub.execute_input": "2023-08-15T13:26:27.567597Z",
     "iopub.status.busy": "2023-08-15T13:26:27.567130Z",
     "iopub.status.idle": "2023-08-15T13:26:27.711667Z",
     "shell.execute_reply": "2023-08-15T13:26:27.710465Z"
    },
    "papermill": {
     "duration": 0.158222,
     "end_time": "2023-08-15T13:26:27.713916",
     "exception": false,
     "start_time": "2023-08-15T13:26:27.555694",
     "status": "completed"
    },
    "tags": []
   },
   "outputs": [
    {
     "name": "stdout",
     "output_type": "stream",
     "text": [
      "isTopCritic             0\n",
      "sentiment               0\n",
      "audienceScore       12757\n",
      "rating              59043\n",
      "runtimeMinutes       3252\n",
      "genre                2346\n",
      "originalLanguage     3143\n",
      "boxOffice           50353\n",
      "com_col                 0\n",
      "dtype: int64\n"
     ]
    }
   ],
   "source": [
    "null_counts = join.isnull().sum()\n",
    "print(null_counts)"
   ]
  },
  {
   "cell_type": "markdown",
   "id": "79327dc3",
   "metadata": {
    "papermill": {
     "duration": 0.008536,
     "end_time": "2023-08-15T13:26:27.731691",
     "exception": false,
     "start_time": "2023-08-15T13:26:27.723155",
     "status": "completed"
    },
    "tags": []
   },
   "source": [
    "**One hot encoding required columns**"
   ]
  },
  {
   "cell_type": "code",
   "execution_count": 10,
   "id": "222d286f",
   "metadata": {
    "execution": {
     "iopub.execute_input": "2023-08-15T13:26:27.751402Z",
     "iopub.status.busy": "2023-08-15T13:26:27.751056Z",
     "iopub.status.idle": "2023-08-15T13:26:27.806470Z",
     "shell.execute_reply": "2023-08-15T13:26:27.805066Z"
    },
    "papermill": {
     "duration": 0.068047,
     "end_time": "2023-08-15T13:26:27.808816",
     "exception": false,
     "start_time": "2023-08-15T13:26:27.740769",
     "status": "completed"
    },
    "tags": []
   },
   "outputs": [],
   "source": [
    "rating_oh = pd.get_dummies(join['rating'])\n",
    "rating_oh.columns = 'rating_' + rating_oh.columns\n",
    "join = pd.concat([join, rating_oh], axis=1)\n",
    "join.drop('rating', axis=1, inplace=True)"
   ]
  },
  {
   "cell_type": "code",
   "execution_count": 11,
   "id": "a424be96",
   "metadata": {
    "execution": {
     "iopub.execute_input": "2023-08-15T13:26:27.828742Z",
     "iopub.status.busy": "2023-08-15T13:26:27.827901Z",
     "iopub.status.idle": "2023-08-15T13:26:30.339514Z",
     "shell.execute_reply": "2023-08-15T13:26:30.337871Z"
    },
    "papermill": {
     "duration": 2.524894,
     "end_time": "2023-08-15T13:26:30.342940",
     "exception": false,
     "start_time": "2023-08-15T13:26:27.818046",
     "status": "completed"
    },
    "tags": []
   },
   "outputs": [],
   "source": [
    "join[\"genre\"] = join[\"genre\"].fillna(\"\")\n",
    "join[\"genre\"] = join[\"genre\"].apply(remove_punctuations)\n",
    "join['genre'] = join['genre'].str.lower()\n",
    "join['genre'] = join['genre'].str.replace('  ', ' ')\n",
    "genre_oh = join['genre'].str.get_dummies(sep=' ')\n",
    "genre_oh.columns = 'genre_' + genre_oh.columns\n",
    "join = pd.concat([join, genre_oh], axis=1)\n",
    "join.drop('genre', axis=1, inplace=True)"
   ]
  },
  {
   "cell_type": "code",
   "execution_count": 12,
   "id": "22e41787",
   "metadata": {
    "execution": {
     "iopub.execute_input": "2023-08-15T13:26:30.363788Z",
     "iopub.status.busy": "2023-08-15T13:26:30.362797Z",
     "iopub.status.idle": "2023-08-15T13:26:30.534212Z",
     "shell.execute_reply": "2023-08-15T13:26:30.532669Z"
    },
    "papermill": {
     "duration": 0.184473,
     "end_time": "2023-08-15T13:26:30.536922",
     "exception": false,
     "start_time": "2023-08-15T13:26:30.352449",
     "status": "completed"
    },
    "tags": []
   },
   "outputs": [
    {
     "data": {
      "text/html": [
       "<div>\n",
       "<style scoped>\n",
       "    .dataframe tbody tr th:only-of-type {\n",
       "        vertical-align: middle;\n",
       "    }\n",
       "\n",
       "    .dataframe tbody tr th {\n",
       "        vertical-align: top;\n",
       "    }\n",
       "\n",
       "    .dataframe thead th {\n",
       "        text-align: right;\n",
       "    }\n",
       "</style>\n",
       "<table border=\"1\" class=\"dataframe\">\n",
       "  <thead>\n",
       "    <tr style=\"text-align: right;\">\n",
       "      <th></th>\n",
       "      <th>isTopCritic</th>\n",
       "      <th>sentiment</th>\n",
       "      <th>audienceScore</th>\n",
       "      <th>runtimeMinutes</th>\n",
       "      <th>boxOffice</th>\n",
       "      <th>com_col</th>\n",
       "      <th>rating_NC-17</th>\n",
       "      <th>rating_PG</th>\n",
       "      <th>rating_PG-13</th>\n",
       "      <th>rating_R</th>\n",
       "      <th>...</th>\n",
       "      <th>lang_Turkish</th>\n",
       "      <th>lang_Ukrainian</th>\n",
       "      <th>lang_Unknown language</th>\n",
       "      <th>lang_Urdu</th>\n",
       "      <th>lang_Vietnamese</th>\n",
       "      <th>lang_Welsh</th>\n",
       "      <th>lang_Wolof</th>\n",
       "      <th>lang_Xhosa</th>\n",
       "      <th>lang_Yiddish</th>\n",
       "      <th>lang_crp</th>\n",
       "    </tr>\n",
       "  </thead>\n",
       "  <tbody>\n",
       "    <tr>\n",
       "      <th>0</th>\n",
       "      <td>False</td>\n",
       "      <td>POSITIVE</td>\n",
       "      <td>65.0</td>\n",
       "      <td>105.0</td>\n",
       "      <td>NaN</td>\n",
       "      <td>Henry Selick’s first movie since 2009’s Corali...</td>\n",
       "      <td>0</td>\n",
       "      <td>0</td>\n",
       "      <td>1</td>\n",
       "      <td>0</td>\n",
       "      <td>...</td>\n",
       "      <td>0</td>\n",
       "      <td>0</td>\n",
       "      <td>0</td>\n",
       "      <td>0</td>\n",
       "      <td>0</td>\n",
       "      <td>0</td>\n",
       "      <td>0</td>\n",
       "      <td>0</td>\n",
       "      <td>0</td>\n",
       "      <td>0</td>\n",
       "    </tr>\n",
       "    <tr>\n",
       "      <th>1</th>\n",
       "      <td>False</td>\n",
       "      <td>NEGATIVE</td>\n",
       "      <td>NaN</td>\n",
       "      <td>91.0</td>\n",
       "      <td>NaN</td>\n",
       "      <td>With a cast that reads like the Vogue Oscar pa...</td>\n",
       "      <td>0</td>\n",
       "      <td>0</td>\n",
       "      <td>0</td>\n",
       "      <td>0</td>\n",
       "      <td>...</td>\n",
       "      <td>0</td>\n",
       "      <td>0</td>\n",
       "      <td>0</td>\n",
       "      <td>0</td>\n",
       "      <td>0</td>\n",
       "      <td>0</td>\n",
       "      <td>0</td>\n",
       "      <td>0</td>\n",
       "      <td>0</td>\n",
       "      <td>0</td>\n",
       "    </tr>\n",
       "    <tr>\n",
       "      <th>2</th>\n",
       "      <td>True</td>\n",
       "      <td>POSITIVE</td>\n",
       "      <td>80.0</td>\n",
       "      <td>130.0</td>\n",
       "      <td>$115.7M</td>\n",
       "      <td>Creed II does not give us anything but another...</td>\n",
       "      <td>0</td>\n",
       "      <td>0</td>\n",
       "      <td>1</td>\n",
       "      <td>0</td>\n",
       "      <td>...</td>\n",
       "      <td>0</td>\n",
       "      <td>0</td>\n",
       "      <td>0</td>\n",
       "      <td>0</td>\n",
       "      <td>0</td>\n",
       "      <td>0</td>\n",
       "      <td>0</td>\n",
       "      <td>0</td>\n",
       "      <td>0</td>\n",
       "      <td>0</td>\n",
       "    </tr>\n",
       "    <tr>\n",
       "      <th>3</th>\n",
       "      <td>False</td>\n",
       "      <td>POSITIVE</td>\n",
       "      <td>NaN</td>\n",
       "      <td>15.0</td>\n",
       "      <td>NaN</td>\n",
       "      <td>I know what youre thinking but this is no Limi...</td>\n",
       "      <td>0</td>\n",
       "      <td>0</td>\n",
       "      <td>0</td>\n",
       "      <td>0</td>\n",
       "      <td>...</td>\n",
       "      <td>0</td>\n",
       "      <td>0</td>\n",
       "      <td>0</td>\n",
       "      <td>0</td>\n",
       "      <td>0</td>\n",
       "      <td>0</td>\n",
       "      <td>0</td>\n",
       "      <td>0</td>\n",
       "      <td>0</td>\n",
       "      <td>0</td>\n",
       "    </tr>\n",
       "    <tr>\n",
       "      <th>4</th>\n",
       "      <td>False</td>\n",
       "      <td>POSITIVE</td>\n",
       "      <td>97.0</td>\n",
       "      <td>131.0</td>\n",
       "      <td>$7.6M</td>\n",
       "      <td>Director Fernando Meirelles tells the story wi...</td>\n",
       "      <td>0</td>\n",
       "      <td>0</td>\n",
       "      <td>0</td>\n",
       "      <td>1</td>\n",
       "      <td>...</td>\n",
       "      <td>0</td>\n",
       "      <td>0</td>\n",
       "      <td>0</td>\n",
       "      <td>0</td>\n",
       "      <td>0</td>\n",
       "      <td>0</td>\n",
       "      <td>0</td>\n",
       "      <td>0</td>\n",
       "      <td>0</td>\n",
       "      <td>0</td>\n",
       "    </tr>\n",
       "  </tbody>\n",
       "</table>\n",
       "<p>5 rows × 143 columns</p>\n",
       "</div>"
      ],
      "text/plain": [
       "   isTopCritic sentiment  audienceScore  runtimeMinutes boxOffice  \\\n",
       "0        False  POSITIVE           65.0           105.0       NaN   \n",
       "1        False  NEGATIVE            NaN            91.0       NaN   \n",
       "2         True  POSITIVE           80.0           130.0   $115.7M   \n",
       "3        False  POSITIVE            NaN            15.0       NaN   \n",
       "4        False  POSITIVE           97.0           131.0     $7.6M   \n",
       "\n",
       "                                             com_col  rating_NC-17  rating_PG  \\\n",
       "0  Henry Selick’s first movie since 2009’s Corali...             0          0   \n",
       "1  With a cast that reads like the Vogue Oscar pa...             0          0   \n",
       "2  Creed II does not give us anything but another...             0          0   \n",
       "3  I know what youre thinking but this is no Limi...             0          0   \n",
       "4  Director Fernando Meirelles tells the story wi...             0          0   \n",
       "\n",
       "   rating_PG-13  rating_R  ...  lang_Turkish  lang_Ukrainian  \\\n",
       "0             1         0  ...             0               0   \n",
       "1             0         0  ...             0               0   \n",
       "2             1         0  ...             0               0   \n",
       "3             0         0  ...             0               0   \n",
       "4             0         1  ...             0               0   \n",
       "\n",
       "   lang_Unknown language  lang_Urdu  lang_Vietnamese  lang_Welsh  lang_Wolof  \\\n",
       "0                      0          0                0           0           0   \n",
       "1                      0          0                0           0           0   \n",
       "2                      0          0                0           0           0   \n",
       "3                      0          0                0           0           0   \n",
       "4                      0          0                0           0           0   \n",
       "\n",
       "   lang_Xhosa  lang_Yiddish  lang_crp  \n",
       "0           0             0         0  \n",
       "1           0             0         0  \n",
       "2           0             0         0  \n",
       "3           0             0         0  \n",
       "4           0             0         0  \n",
       "\n",
       "[5 rows x 143 columns]"
      ]
     },
     "execution_count": 12,
     "metadata": {},
     "output_type": "execute_result"
    }
   ],
   "source": [
    "lang_oh = pd.get_dummies(join['originalLanguage'])\n",
    "lang_oh.columns = 'lang_' + lang_oh.columns\n",
    "join = pd.concat([join, lang_oh], axis=1)\n",
    "join.drop('originalLanguage', axis=1, inplace=True)\n",
    "join.head()"
   ]
  },
  {
   "cell_type": "code",
   "execution_count": 13,
   "id": "645a8c63",
   "metadata": {
    "execution": {
     "iopub.execute_input": "2023-08-15T13:26:30.559222Z",
     "iopub.status.busy": "2023-08-15T13:26:30.558854Z",
     "iopub.status.idle": "2023-08-15T13:26:30.745196Z",
     "shell.execute_reply": "2023-08-15T13:26:30.743494Z"
    },
    "papermill": {
     "duration": 0.200673,
     "end_time": "2023-08-15T13:26:30.748015",
     "exception": false,
     "start_time": "2023-08-15T13:26:30.547342",
     "status": "completed"
    },
    "tags": []
   },
   "outputs": [],
   "source": [
    "def convert_box_office(value):\n",
    "    if pd.notna(value):\n",
    "        if 'B' in value:\n",
    "            return float(value.replace('$', '').replace('B', '')) * 1000000000\n",
    "        elif 'M' in value:\n",
    "            return float(value.replace('$', '').replace('M', '')) * 1000000\n",
    "        elif 'K' in value:\n",
    "            return float(value.replace('$', '').replace('K', '')) * 1000\n",
    "        else:\n",
    "            return float(value.replace('$', ''))\n",
    "    else:\n",
    "        return value\n",
    "join['boxOffice'] = join['boxOffice'].apply(convert_box_office)"
   ]
  },
  {
   "cell_type": "code",
   "execution_count": 14,
   "id": "ccf33c3f",
   "metadata": {
    "execution": {
     "iopub.execute_input": "2023-08-15T13:26:30.769414Z",
     "iopub.status.busy": "2023-08-15T13:26:30.769057Z",
     "iopub.status.idle": "2023-08-15T13:26:31.253760Z",
     "shell.execute_reply": "2023-08-15T13:26:31.252907Z"
    },
    "papermill": {
     "duration": 0.497727,
     "end_time": "2023-08-15T13:26:31.255721",
     "exception": false,
     "start_time": "2023-08-15T13:26:30.757994",
     "status": "completed"
    },
    "tags": []
   },
   "outputs": [
    {
     "data": {
      "text/html": [
       "<div>\n",
       "<style scoped>\n",
       "    .dataframe tbody tr th:only-of-type {\n",
       "        vertical-align: middle;\n",
       "    }\n",
       "\n",
       "    .dataframe tbody tr th {\n",
       "        vertical-align: top;\n",
       "    }\n",
       "\n",
       "    .dataframe thead th {\n",
       "        text-align: right;\n",
       "    }\n",
       "</style>\n",
       "<table border=\"1\" class=\"dataframe\">\n",
       "  <thead>\n",
       "    <tr style=\"text-align: right;\">\n",
       "      <th></th>\n",
       "      <th>audienceScore</th>\n",
       "      <th>runtimeMinutes</th>\n",
       "      <th>boxOffice</th>\n",
       "      <th>rating_NC-17</th>\n",
       "      <th>rating_PG</th>\n",
       "      <th>rating_PG-13</th>\n",
       "      <th>rating_R</th>\n",
       "      <th>rating_TV14</th>\n",
       "      <th>rating_TVMA</th>\n",
       "      <th>rating_TVPG</th>\n",
       "      <th>...</th>\n",
       "      <th>lang_Turkish</th>\n",
       "      <th>lang_Ukrainian</th>\n",
       "      <th>lang_Unknown language</th>\n",
       "      <th>lang_Urdu</th>\n",
       "      <th>lang_Vietnamese</th>\n",
       "      <th>lang_Welsh</th>\n",
       "      <th>lang_Wolof</th>\n",
       "      <th>lang_Xhosa</th>\n",
       "      <th>lang_Yiddish</th>\n",
       "      <th>lang_crp</th>\n",
       "    </tr>\n",
       "  </thead>\n",
       "  <tbody>\n",
       "    <tr>\n",
       "      <th>count</th>\n",
       "      <td>143554.000000</td>\n",
       "      <td>153059.000000</td>\n",
       "      <td>1.059580e+05</td>\n",
       "      <td>156311.000000</td>\n",
       "      <td>156311.000000</td>\n",
       "      <td>156311.000000</td>\n",
       "      <td>156311.000000</td>\n",
       "      <td>156311.000000</td>\n",
       "      <td>156311.000000</td>\n",
       "      <td>156311.000000</td>\n",
       "      <td>...</td>\n",
       "      <td>156311.000000</td>\n",
       "      <td>156311.000000</td>\n",
       "      <td>156311.000000</td>\n",
       "      <td>156311.000000</td>\n",
       "      <td>156311.000000</td>\n",
       "      <td>156311.000000</td>\n",
       "      <td>156311.000000</td>\n",
       "      <td>156311.000000</td>\n",
       "      <td>156311.000000</td>\n",
       "      <td>156311.000000</td>\n",
       "    </tr>\n",
       "    <tr>\n",
       "      <th>mean</th>\n",
       "      <td>65.239436</td>\n",
       "      <td>106.988736</td>\n",
       "      <td>5.074940e+07</td>\n",
       "      <td>0.001260</td>\n",
       "      <td>0.073693</td>\n",
       "      <td>0.229037</td>\n",
       "      <td>0.315928</td>\n",
       "      <td>0.000889</td>\n",
       "      <td>0.000262</td>\n",
       "      <td>0.001203</td>\n",
       "      <td>...</td>\n",
       "      <td>0.000819</td>\n",
       "      <td>0.000186</td>\n",
       "      <td>0.001171</td>\n",
       "      <td>0.000128</td>\n",
       "      <td>0.000320</td>\n",
       "      <td>0.000077</td>\n",
       "      <td>0.000128</td>\n",
       "      <td>0.000026</td>\n",
       "      <td>0.000224</td>\n",
       "      <td>0.000051</td>\n",
       "    </tr>\n",
       "    <tr>\n",
       "      <th>std</th>\n",
       "      <td>19.915823</td>\n",
       "      <td>22.101083</td>\n",
       "      <td>9.127036e+07</td>\n",
       "      <td>0.035479</td>\n",
       "      <td>0.261271</td>\n",
       "      <td>0.420214</td>\n",
       "      <td>0.464886</td>\n",
       "      <td>0.029807</td>\n",
       "      <td>0.016194</td>\n",
       "      <td>0.034660</td>\n",
       "      <td>...</td>\n",
       "      <td>0.028604</td>\n",
       "      <td>0.013620</td>\n",
       "      <td>0.034196</td>\n",
       "      <td>0.011311</td>\n",
       "      <td>0.017882</td>\n",
       "      <td>0.008762</td>\n",
       "      <td>0.011311</td>\n",
       "      <td>0.005059</td>\n",
       "      <td>0.014962</td>\n",
       "      <td>0.007154</td>\n",
       "    </tr>\n",
       "    <tr>\n",
       "      <th>min</th>\n",
       "      <td>0.000000</td>\n",
       "      <td>4.000000</td>\n",
       "      <td>0.000000e+00</td>\n",
       "      <td>0.000000</td>\n",
       "      <td>0.000000</td>\n",
       "      <td>0.000000</td>\n",
       "      <td>0.000000</td>\n",
       "      <td>0.000000</td>\n",
       "      <td>0.000000</td>\n",
       "      <td>0.000000</td>\n",
       "      <td>...</td>\n",
       "      <td>0.000000</td>\n",
       "      <td>0.000000</td>\n",
       "      <td>0.000000</td>\n",
       "      <td>0.000000</td>\n",
       "      <td>0.000000</td>\n",
       "      <td>0.000000</td>\n",
       "      <td>0.000000</td>\n",
       "      <td>0.000000</td>\n",
       "      <td>0.000000</td>\n",
       "      <td>0.000000</td>\n",
       "    </tr>\n",
       "    <tr>\n",
       "      <th>25%</th>\n",
       "      <td>51.000000</td>\n",
       "      <td>93.000000</td>\n",
       "      <td>9.789000e+05</td>\n",
       "      <td>0.000000</td>\n",
       "      <td>0.000000</td>\n",
       "      <td>0.000000</td>\n",
       "      <td>0.000000</td>\n",
       "      <td>0.000000</td>\n",
       "      <td>0.000000</td>\n",
       "      <td>0.000000</td>\n",
       "      <td>...</td>\n",
       "      <td>0.000000</td>\n",
       "      <td>0.000000</td>\n",
       "      <td>0.000000</td>\n",
       "      <td>0.000000</td>\n",
       "      <td>0.000000</td>\n",
       "      <td>0.000000</td>\n",
       "      <td>0.000000</td>\n",
       "      <td>0.000000</td>\n",
       "      <td>0.000000</td>\n",
       "      <td>0.000000</td>\n",
       "    </tr>\n",
       "    <tr>\n",
       "      <th>50%</th>\n",
       "      <td>68.000000</td>\n",
       "      <td>104.000000</td>\n",
       "      <td>1.500000e+07</td>\n",
       "      <td>0.000000</td>\n",
       "      <td>0.000000</td>\n",
       "      <td>0.000000</td>\n",
       "      <td>0.000000</td>\n",
       "      <td>0.000000</td>\n",
       "      <td>0.000000</td>\n",
       "      <td>0.000000</td>\n",
       "      <td>...</td>\n",
       "      <td>0.000000</td>\n",
       "      <td>0.000000</td>\n",
       "      <td>0.000000</td>\n",
       "      <td>0.000000</td>\n",
       "      <td>0.000000</td>\n",
       "      <td>0.000000</td>\n",
       "      <td>0.000000</td>\n",
       "      <td>0.000000</td>\n",
       "      <td>0.000000</td>\n",
       "      <td>0.000000</td>\n",
       "    </tr>\n",
       "    <tr>\n",
       "      <th>75%</th>\n",
       "      <td>82.000000</td>\n",
       "      <td>118.000000</td>\n",
       "      <td>5.820000e+07</td>\n",
       "      <td>0.000000</td>\n",
       "      <td>0.000000</td>\n",
       "      <td>0.000000</td>\n",
       "      <td>1.000000</td>\n",
       "      <td>0.000000</td>\n",
       "      <td>0.000000</td>\n",
       "      <td>0.000000</td>\n",
       "      <td>...</td>\n",
       "      <td>0.000000</td>\n",
       "      <td>0.000000</td>\n",
       "      <td>0.000000</td>\n",
       "      <td>0.000000</td>\n",
       "      <td>0.000000</td>\n",
       "      <td>0.000000</td>\n",
       "      <td>0.000000</td>\n",
       "      <td>0.000000</td>\n",
       "      <td>0.000000</td>\n",
       "      <td>0.000000</td>\n",
       "    </tr>\n",
       "    <tr>\n",
       "      <th>max</th>\n",
       "      <td>100.000000</td>\n",
       "      <td>561.000000</td>\n",
       "      <td>8.584000e+08</td>\n",
       "      <td>1.000000</td>\n",
       "      <td>1.000000</td>\n",
       "      <td>1.000000</td>\n",
       "      <td>1.000000</td>\n",
       "      <td>1.000000</td>\n",
       "      <td>1.000000</td>\n",
       "      <td>1.000000</td>\n",
       "      <td>...</td>\n",
       "      <td>1.000000</td>\n",
       "      <td>1.000000</td>\n",
       "      <td>1.000000</td>\n",
       "      <td>1.000000</td>\n",
       "      <td>1.000000</td>\n",
       "      <td>1.000000</td>\n",
       "      <td>1.000000</td>\n",
       "      <td>1.000000</td>\n",
       "      <td>1.000000</td>\n",
       "      <td>1.000000</td>\n",
       "    </tr>\n",
       "  </tbody>\n",
       "</table>\n",
       "<p>8 rows × 140 columns</p>\n",
       "</div>"
      ],
      "text/plain": [
       "       audienceScore  runtimeMinutes     boxOffice   rating_NC-17  \\\n",
       "count  143554.000000   153059.000000  1.059580e+05  156311.000000   \n",
       "mean       65.239436      106.988736  5.074940e+07       0.001260   \n",
       "std        19.915823       22.101083  9.127036e+07       0.035479   \n",
       "min         0.000000        4.000000  0.000000e+00       0.000000   \n",
       "25%        51.000000       93.000000  9.789000e+05       0.000000   \n",
       "50%        68.000000      104.000000  1.500000e+07       0.000000   \n",
       "75%        82.000000      118.000000  5.820000e+07       0.000000   \n",
       "max       100.000000      561.000000  8.584000e+08       1.000000   \n",
       "\n",
       "           rating_PG   rating_PG-13       rating_R    rating_TV14  \\\n",
       "count  156311.000000  156311.000000  156311.000000  156311.000000   \n",
       "mean        0.073693       0.229037       0.315928       0.000889   \n",
       "std         0.261271       0.420214       0.464886       0.029807   \n",
       "min         0.000000       0.000000       0.000000       0.000000   \n",
       "25%         0.000000       0.000000       0.000000       0.000000   \n",
       "50%         0.000000       0.000000       0.000000       0.000000   \n",
       "75%         0.000000       0.000000       1.000000       0.000000   \n",
       "max         1.000000       1.000000       1.000000       1.000000   \n",
       "\n",
       "         rating_TVMA    rating_TVPG  ...   lang_Turkish  lang_Ukrainian  \\\n",
       "count  156311.000000  156311.000000  ...  156311.000000   156311.000000   \n",
       "mean        0.000262       0.001203  ...       0.000819        0.000186   \n",
       "std         0.016194       0.034660  ...       0.028604        0.013620   \n",
       "min         0.000000       0.000000  ...       0.000000        0.000000   \n",
       "25%         0.000000       0.000000  ...       0.000000        0.000000   \n",
       "50%         0.000000       0.000000  ...       0.000000        0.000000   \n",
       "75%         0.000000       0.000000  ...       0.000000        0.000000   \n",
       "max         1.000000       1.000000  ...       1.000000        1.000000   \n",
       "\n",
       "       lang_Unknown language      lang_Urdu  lang_Vietnamese     lang_Welsh  \\\n",
       "count          156311.000000  156311.000000    156311.000000  156311.000000   \n",
       "mean                0.001171       0.000128         0.000320       0.000077   \n",
       "std                 0.034196       0.011311         0.017882       0.008762   \n",
       "min                 0.000000       0.000000         0.000000       0.000000   \n",
       "25%                 0.000000       0.000000         0.000000       0.000000   \n",
       "50%                 0.000000       0.000000         0.000000       0.000000   \n",
       "75%                 0.000000       0.000000         0.000000       0.000000   \n",
       "max                 1.000000       1.000000         1.000000       1.000000   \n",
       "\n",
       "          lang_Wolof     lang_Xhosa   lang_Yiddish       lang_crp  \n",
       "count  156311.000000  156311.000000  156311.000000  156311.000000  \n",
       "mean        0.000128       0.000026       0.000224       0.000051  \n",
       "std         0.011311       0.005059       0.014962       0.007154  \n",
       "min         0.000000       0.000000       0.000000       0.000000  \n",
       "25%         0.000000       0.000000       0.000000       0.000000  \n",
       "50%         0.000000       0.000000       0.000000       0.000000  \n",
       "75%         0.000000       0.000000       0.000000       0.000000  \n",
       "max         1.000000       1.000000       1.000000       1.000000  \n",
       "\n",
       "[8 rows x 140 columns]"
      ]
     },
     "execution_count": 14,
     "metadata": {},
     "output_type": "execute_result"
    }
   ],
   "source": [
    "join.describe()"
   ]
  },
  {
   "cell_type": "markdown",
   "id": "06e6b7cc",
   "metadata": {
    "papermill": {
     "duration": 0.009234,
     "end_time": "2023-08-15T13:26:31.274873",
     "exception": false,
     "start_time": "2023-08-15T13:26:31.265639",
     "status": "completed"
    },
    "tags": []
   },
   "source": [
    "**Imputation of numerical features**"
   ]
  },
  {
   "cell_type": "code",
   "execution_count": 15,
   "id": "8a747bd7",
   "metadata": {
    "execution": {
     "iopub.execute_input": "2023-08-15T13:26:31.295449Z",
     "iopub.status.busy": "2023-08-15T13:26:31.295099Z",
     "iopub.status.idle": "2023-08-15T13:26:31.555221Z",
     "shell.execute_reply": "2023-08-15T13:26:31.554534Z"
    },
    "papermill": {
     "duration": 0.272606,
     "end_time": "2023-08-15T13:26:31.556984",
     "exception": false,
     "start_time": "2023-08-15T13:26:31.284378",
     "status": "completed"
    },
    "tags": []
   },
   "outputs": [
    {
     "data": {
      "image/png": "[encoded data removed]",
      "text/plain": [
       "<Figure size 800x600 with 1 Axes>"
      ]
     },
     "metadata": {},
     "output_type": "display_data"
    }
   ],
   "source": [
    "plt.figure(figsize=(8, 6))\n",
    "plt.hist(join['audienceScore'], bins=30, color='blue', alpha=0.7)\n",
    "\n",
    "plt.xlabel('Audience Score')\n",
    "plt.ylabel('Frequency')\n",
    "plt.title('Distribution of Audience Score')\n",
    "\n",
    "plt.show()"
   ]
  },
  {
   "cell_type": "code",
   "execution_count": 16,
   "id": "7fba7d2e",
   "metadata": {
    "execution": {
     "iopub.execute_input": "2023-08-15T13:26:31.580079Z",
     "iopub.status.busy": "2023-08-15T13:26:31.579263Z",
     "iopub.status.idle": "2023-08-15T13:26:31.813605Z",
     "shell.execute_reply": "2023-08-15T13:26:31.812558Z"
    },
    "papermill": {
     "duration": 0.247965,
     "end_time": "2023-08-15T13:26:31.815509",
     "exception": false,
     "start_time": "2023-08-15T13:26:31.567544",
     "status": "completed"
    },
    "tags": []
   },
   "outputs": [
    {
     "data": {
      "image/png": "[encoded data removed]",
      "text/plain": [
       "<Figure size 800x600 with 1 Axes>"
      ]
     },
     "metadata": {},
     "output_type": "display_data"
    }
   ],
   "source": [
    "plt.figure(figsize=(8, 6))\n",
    "plt.hist(join['runtimeMinutes'], bins=30, color='blue', alpha=0.7)\n",
    "\n",
    "plt.xlabel('runtimeMinutes')\n",
    "plt.ylabel('Frequency')\n",
    "plt.title('Distribution of Runtime Minutes')\n",
    "\n",
    "plt.show()"
   ]
  },
  {
   "cell_type": "code",
   "execution_count": 17,
   "id": "b0d52ad0",
   "metadata": {
    "execution": {
     "iopub.execute_input": "2023-08-15T13:26:31.838496Z",
     "iopub.status.busy": "2023-08-15T13:26:31.837945Z",
     "iopub.status.idle": "2023-08-15T13:26:32.066306Z",
     "shell.execute_reply": "2023-08-15T13:26:32.065299Z"
    },
    "papermill": {
     "duration": 0.242041,
     "end_time": "2023-08-15T13:26:32.068232",
     "exception": false,
     "start_time": "2023-08-15T13:26:31.826191",
     "status": "completed"
    },
    "tags": []
   },
   "outputs": [
    {
     "data": {
      "image/png": "[encoded data removed]",
      "text/plain": [
       "<Figure size 800x600 with 1 Axes>"
      ]
     },
     "metadata": {},
     "output_type": "display_data"
    }
   ],
   "source": [
    "plt.figure(figsize=(8, 6))\n",
    "plt.hist(join['boxOffice'], bins=30, color='blue', alpha=0.7)\n",
    "\n",
    "plt.xlabel('boxOffice')\n",
    "plt.ylabel('Frequency')\n",
    "plt.title('Distribution of Box Office')\n",
    "\n",
    "plt.show()"
   ]
  },
  {
   "cell_type": "code",
   "execution_count": 18,
   "id": "d142e05c",
   "metadata": {
    "execution": {
     "iopub.execute_input": "2023-08-15T13:26:32.092106Z",
     "iopub.status.busy": "2023-08-15T13:26:32.091714Z",
     "iopub.status.idle": "2023-08-15T13:26:32.172896Z",
     "shell.execute_reply": "2023-08-15T13:26:32.171925Z"
    },
    "papermill": {
     "duration": 0.095315,
     "end_time": "2023-08-15T13:26:32.174809",
     "exception": false,
     "start_time": "2023-08-15T13:26:32.079494",
     "status": "completed"
    },
    "tags": []
   },
   "outputs": [
    {
     "name": "stdout",
     "output_type": "stream",
     "text": [
      "(156311, 143)\n"
     ]
    },
    {
     "data": {
      "text/html": [
       "<div>\n",
       "<style scoped>\n",
       "    .dataframe tbody tr th:only-of-type {\n",
       "        vertical-align: middle;\n",
       "    }\n",
       "\n",
       "    .dataframe tbody tr th {\n",
       "        vertical-align: top;\n",
       "    }\n",
       "\n",
       "    .dataframe thead th {\n",
       "        text-align: right;\n",
       "    }\n",
       "</style>\n",
       "<table border=\"1\" class=\"dataframe\">\n",
       "  <thead>\n",
       "    <tr style=\"text-align: right;\">\n",
       "      <th></th>\n",
       "      <th>isTopCritic</th>\n",
       "      <th>sentiment</th>\n",
       "      <th>audienceScore</th>\n",
       "      <th>runtimeMinutes</th>\n",
       "      <th>boxOffice</th>\n",
       "      <th>com_col</th>\n",
       "      <th>rating_NC-17</th>\n",
       "      <th>rating_PG</th>\n",
       "      <th>rating_PG-13</th>\n",
       "      <th>rating_R</th>\n",
       "      <th>...</th>\n",
       "      <th>lang_Turkish</th>\n",
       "      <th>lang_Ukrainian</th>\n",
       "      <th>lang_Unknown language</th>\n",
       "      <th>lang_Urdu</th>\n",
       "      <th>lang_Vietnamese</th>\n",
       "      <th>lang_Welsh</th>\n",
       "      <th>lang_Wolof</th>\n",
       "      <th>lang_Xhosa</th>\n",
       "      <th>lang_Yiddish</th>\n",
       "      <th>lang_crp</th>\n",
       "    </tr>\n",
       "  </thead>\n",
       "  <tbody>\n",
       "    <tr>\n",
       "      <th>0</th>\n",
       "      <td>False</td>\n",
       "      <td>POSITIVE</td>\n",
       "      <td>65.000000</td>\n",
       "      <td>105.0</td>\n",
       "      <td>15000000.0</td>\n",
       "      <td>Henry Selick’s first movie since 2009’s Corali...</td>\n",
       "      <td>0</td>\n",
       "      <td>0</td>\n",
       "      <td>1</td>\n",
       "      <td>0</td>\n",
       "      <td>...</td>\n",
       "      <td>0</td>\n",
       "      <td>0</td>\n",
       "      <td>0</td>\n",
       "      <td>0</td>\n",
       "      <td>0</td>\n",
       "      <td>0</td>\n",
       "      <td>0</td>\n",
       "      <td>0</td>\n",
       "      <td>0</td>\n",
       "      <td>0</td>\n",
       "    </tr>\n",
       "    <tr>\n",
       "      <th>1</th>\n",
       "      <td>False</td>\n",
       "      <td>NEGATIVE</td>\n",
       "      <td>65.239436</td>\n",
       "      <td>91.0</td>\n",
       "      <td>15000000.0</td>\n",
       "      <td>With a cast that reads like the Vogue Oscar pa...</td>\n",
       "      <td>0</td>\n",
       "      <td>0</td>\n",
       "      <td>0</td>\n",
       "      <td>0</td>\n",
       "      <td>...</td>\n",
       "      <td>0</td>\n",
       "      <td>0</td>\n",
       "      <td>0</td>\n",
       "      <td>0</td>\n",
       "      <td>0</td>\n",
       "      <td>0</td>\n",
       "      <td>0</td>\n",
       "      <td>0</td>\n",
       "      <td>0</td>\n",
       "      <td>0</td>\n",
       "    </tr>\n",
       "    <tr>\n",
       "      <th>2</th>\n",
       "      <td>True</td>\n",
       "      <td>POSITIVE</td>\n",
       "      <td>80.000000</td>\n",
       "      <td>130.0</td>\n",
       "      <td>115700000.0</td>\n",
       "      <td>Creed II does not give us anything but another...</td>\n",
       "      <td>0</td>\n",
       "      <td>0</td>\n",
       "      <td>1</td>\n",
       "      <td>0</td>\n",
       "      <td>...</td>\n",
       "      <td>0</td>\n",
       "      <td>0</td>\n",
       "      <td>0</td>\n",
       "      <td>0</td>\n",
       "      <td>0</td>\n",
       "      <td>0</td>\n",
       "      <td>0</td>\n",
       "      <td>0</td>\n",
       "      <td>0</td>\n",
       "      <td>0</td>\n",
       "    </tr>\n",
       "    <tr>\n",
       "      <th>3</th>\n",
       "      <td>False</td>\n",
       "      <td>POSITIVE</td>\n",
       "      <td>65.239436</td>\n",
       "      <td>15.0</td>\n",
       "      <td>15000000.0</td>\n",
       "      <td>I know what youre thinking but this is no Limi...</td>\n",
       "      <td>0</td>\n",
       "      <td>0</td>\n",
       "      <td>0</td>\n",
       "      <td>0</td>\n",
       "      <td>...</td>\n",
       "      <td>0</td>\n",
       "      <td>0</td>\n",
       "      <td>0</td>\n",
       "      <td>0</td>\n",
       "      <td>0</td>\n",
       "      <td>0</td>\n",
       "      <td>0</td>\n",
       "      <td>0</td>\n",
       "      <td>0</td>\n",
       "      <td>0</td>\n",
       "    </tr>\n",
       "    <tr>\n",
       "      <th>4</th>\n",
       "      <td>False</td>\n",
       "      <td>POSITIVE</td>\n",
       "      <td>97.000000</td>\n",
       "      <td>131.0</td>\n",
       "      <td>7600000.0</td>\n",
       "      <td>Director Fernando Meirelles tells the story wi...</td>\n",
       "      <td>0</td>\n",
       "      <td>0</td>\n",
       "      <td>0</td>\n",
       "      <td>1</td>\n",
       "      <td>...</td>\n",
       "      <td>0</td>\n",
       "      <td>0</td>\n",
       "      <td>0</td>\n",
       "      <td>0</td>\n",
       "      <td>0</td>\n",
       "      <td>0</td>\n",
       "      <td>0</td>\n",
       "      <td>0</td>\n",
       "      <td>0</td>\n",
       "      <td>0</td>\n",
       "    </tr>\n",
       "  </tbody>\n",
       "</table>\n",
       "<p>5 rows × 143 columns</p>\n",
       "</div>"
      ],
      "text/plain": [
       "   isTopCritic sentiment  audienceScore  runtimeMinutes    boxOffice  \\\n",
       "0        False  POSITIVE      65.000000           105.0   15000000.0   \n",
       "1        False  NEGATIVE      65.239436            91.0   15000000.0   \n",
       "2         True  POSITIVE      80.000000           130.0  115700000.0   \n",
       "3        False  POSITIVE      65.239436            15.0   15000000.0   \n",
       "4        False  POSITIVE      97.000000           131.0    7600000.0   \n",
       "\n",
       "                                             com_col  rating_NC-17  rating_PG  \\\n",
       "0  Henry Selick’s first movie since 2009’s Corali...             0          0   \n",
       "1  With a cast that reads like the Vogue Oscar pa...             0          0   \n",
       "2  Creed II does not give us anything but another...             0          0   \n",
       "3  I know what youre thinking but this is no Limi...             0          0   \n",
       "4  Director Fernando Meirelles tells the story wi...             0          0   \n",
       "\n",
       "   rating_PG-13  rating_R  ...  lang_Turkish  lang_Ukrainian  \\\n",
       "0             1         0  ...             0               0   \n",
       "1             0         0  ...             0               0   \n",
       "2             1         0  ...             0               0   \n",
       "3             0         0  ...             0               0   \n",
       "4             0         1  ...             0               0   \n",
       "\n",
       "   lang_Unknown language  lang_Urdu  lang_Vietnamese  lang_Welsh  lang_Wolof  \\\n",
       "0                      0          0                0           0           0   \n",
       "1                      0          0                0           0           0   \n",
       "2                      0          0                0           0           0   \n",
       "3                      0          0                0           0           0   \n",
       "4                      0          0                0           0           0   \n",
       "\n",
       "   lang_Xhosa  lang_Yiddish  lang_crp  \n",
       "0           0             0         0  \n",
       "1           0             0         0  \n",
       "2           0             0         0  \n",
       "3           0             0         0  \n",
       "4           0             0         0  \n",
       "\n",
       "[5 rows x 143 columns]"
      ]
     },
     "execution_count": 18,
     "metadata": {},
     "output_type": "execute_result"
    }
   ],
   "source": [
    "from sklearn.impute import SimpleImputer\n",
    "mean_imputer = SimpleImputer(strategy='mean')\n",
    "median_imputer = SimpleImputer(strategy='median')\n",
    "\n",
    "mean_columns = ['audienceScore', 'runtimeMinutes']\n",
    "median_columns = ['boxOffice']\n",
    "\n",
    "join[mean_columns] = mean_imputer.fit_transform(join[mean_columns])\n",
    "join[median_columns] = median_imputer.fit_transform(join[median_columns])\n",
    "\n",
    "print(join.shape)\n",
    "join.head()"
   ]
  },
  {
   "cell_type": "code",
   "execution_count": 19,
   "id": "a2e04172",
   "metadata": {
    "execution": {
     "iopub.execute_input": "2023-08-15T13:26:32.200992Z",
     "iopub.status.busy": "2023-08-15T13:26:32.199972Z",
     "iopub.status.idle": "2023-08-15T13:26:35.973280Z",
     "shell.execute_reply": "2023-08-15T13:26:35.972182Z"
    },
    "papermill": {
     "duration": 3.787986,
     "end_time": "2023-08-15T13:26:35.975278",
     "exception": false,
     "start_time": "2023-08-15T13:26:32.187292",
     "status": "completed"
    },
    "tags": []
   },
   "outputs": [
    {
     "data": {
      "image/png": "[encoded data removed]",
      "text/plain": [
       "<Figure size 640x480 with 1 Axes>"
      ]
     },
     "metadata": {},
     "output_type": "display_data"
    }
   ],
   "source": [
    "sns.scatterplot(data=join, x='audienceScore', y='boxOffice', hue='sentiment')\n",
    "plt.title('Scatterplot between Audience Score and Box Office')\n",
    "plt.xlabel('Audience Score')\n",
    "plt.ylabel('Box Office')\n",
    "plt.show()"
   ]
  },
  {
   "cell_type": "code",
   "execution_count": 20,
   "id": "5ab062af",
   "metadata": {
    "execution": {
     "iopub.execute_input": "2023-08-15T13:26:36.002541Z",
     "iopub.status.busy": "2023-08-15T13:26:36.002151Z",
     "iopub.status.idle": "2023-08-15T13:26:36.078062Z",
     "shell.execute_reply": "2023-08-15T13:26:36.076524Z"
    },
    "papermill": {
     "duration": 0.092459,
     "end_time": "2023-08-15T13:26:36.080665",
     "exception": false,
     "start_time": "2023-08-15T13:26:35.988206",
     "status": "completed"
    },
    "tags": []
   },
   "outputs": [
    {
     "name": "stdout",
     "output_type": "stream",
     "text": [
      "isTopCritic       0\n",
      "sentiment         0\n",
      "audienceScore     0\n",
      "runtimeMinutes    0\n",
      "boxOffice         0\n",
      "                 ..\n",
      "lang_Welsh        0\n",
      "lang_Wolof        0\n",
      "lang_Xhosa        0\n",
      "lang_Yiddish      0\n",
      "lang_crp          0\n",
      "Length: 143, dtype: int64\n"
     ]
    }
   ],
   "source": [
    "new_null_counts = join.isnull().sum()\n",
    "print(new_null_counts)"
   ]
  },
  {
   "cell_type": "code",
   "execution_count": 21,
   "id": "f895f4df",
   "metadata": {
    "execution": {
     "iopub.execute_input": "2023-08-15T13:26:36.108898Z",
     "iopub.status.busy": "2023-08-15T13:26:36.108507Z",
     "iopub.status.idle": "2023-08-15T13:26:36.113348Z",
     "shell.execute_reply": "2023-08-15T13:26:36.112507Z"
    },
    "papermill": {
     "duration": 0.021356,
     "end_time": "2023-08-15T13:26:36.115096",
     "exception": false,
     "start_time": "2023-08-15T13:26:36.093740",
     "status": "completed"
    },
    "tags": []
   },
   "outputs": [
    {
     "name": "stdout",
     "output_type": "stream",
     "text": [
      "['isTopCritic', 'sentiment', 'audienceScore', 'runtimeMinutes', 'boxOffice', 'com_col', 'rating_NC-17', 'rating_PG', 'rating_PG-13', 'rating_R', 'rating_TV14', 'rating_TVMA', 'rating_TVPG', 'genre_action', 'genre_adventure', 'genre_animation', 'genre_anime', 'genre_biography', 'genre_comedy', 'genre_crime', 'genre_documentary', 'genre_drama', 'genre_faith', 'genre_family', 'genre_fantasy', 'genre_fitness', 'genre_foreign', 'genre_gay', 'genre_health', 'genre_history', 'genre_holiday', 'genre_horror', 'genre_kids', 'genre_lesbian', 'genre_lgbtq', 'genre_music', 'genre_musical', 'genre_mystery', 'genre_nature', 'genre_news', 'genre_other', 'genre_romance', 'genre_scifi', 'genre_short', 'genre_spirituality', 'genre_sports', 'genre_standup', 'genre_thriller', 'genre_variety', 'genre_war', 'genre_wellness', 'genre_western', 'lang_Afrikaans', 'lang_Albanian', 'lang_Amharic', 'lang_Arabic', 'lang_Aramaic', 'lang_Armenian', 'lang_Azerbaijani', 'lang_Bambara', 'lang_Bangla', 'lang_Bosnian', 'lang_Bulgarian', 'lang_Catalan', 'lang_Chinese', 'lang_Croatian', 'lang_Czech', 'lang_Danish', 'lang_Dutch', 'lang_Dzongkha', 'lang_English', 'lang_English (Australia)', 'lang_English (United Kingdom)', 'lang_Estonian', 'lang_Filipino', 'lang_Finnish', 'lang_French', 'lang_French (Canada)', 'lang_French (France)', 'lang_Galician', 'lang_Georgian', 'lang_German', 'lang_Greek', 'lang_Gujarati', 'lang_Hebrew', 'lang_Hindi', 'lang_Hungarian', 'lang_Icelandic', 'lang_Indonesian', 'lang_Inuktitut', 'lang_Irish', 'lang_Italian', 'lang_Japanese', 'lang_Kalaallisut', 'lang_Kannada', 'lang_Khmer', 'lang_Korean', 'lang_Kurdish', 'lang_Lao', 'lang_Latvian', 'lang_Lingala', 'lang_Lithuanian', 'lang_Luxembourgish', 'lang_Macedonian', 'lang_Malay', 'lang_Malayalam', 'lang_Maltese', 'lang_Maori', 'lang_Marathi', 'lang_Mongolian', 'lang_Nepali', 'lang_Norwegian', 'lang_Pashto', 'lang_Persian', 'lang_Polish', 'lang_Portuguese', 'lang_Portuguese (Brazil)', 'lang_Romanian', 'lang_Romany', 'lang_Russian', 'lang_Serbian', 'lang_Slovak', 'lang_Slovenian', 'lang_Somali', 'lang_Spanish', 'lang_Spanish (Spain)', 'lang_Swahili', 'lang_Swedish', 'lang_Tagalog', 'lang_Tamil', 'lang_Telugu', 'lang_Thai', 'lang_Tibetan', 'lang_Turkish', 'lang_Ukrainian', 'lang_Unknown language', 'lang_Urdu', 'lang_Vietnamese', 'lang_Welsh', 'lang_Wolof', 'lang_Xhosa', 'lang_Yiddish', 'lang_crp']\n",
      "(156311, 143)\n"
     ]
    }
   ],
   "source": [
    "all_column_names = join.columns.tolist()\n",
    "print(all_column_names)\n",
    "print(join.shape)"
   ]
  },
  {
   "cell_type": "markdown",
   "id": "8173a643",
   "metadata": {
    "papermill": {
     "duration": 0.015824,
     "end_time": "2023-08-15T13:26:36.143913",
     "exception": false,
     "start_time": "2023-08-15T13:26:36.128089",
     "status": "completed"
    },
    "tags": []
   },
   "source": [
    "**Extracting appropriate numerical features from text using TfIdf Vectorizer**"
   ]
  },
  {
   "cell_type": "code",
   "execution_count": 22,
   "id": "074842a4",
   "metadata": {
    "execution": {
     "iopub.execute_input": "2023-08-15T13:26:36.172440Z",
     "iopub.status.busy": "2023-08-15T13:26:36.172008Z",
     "iopub.status.idle": "2023-08-15T13:26:43.798312Z",
     "shell.execute_reply": "2023-08-15T13:26:43.797461Z"
    },
    "papermill": {
     "duration": 7.643118,
     "end_time": "2023-08-15T13:26:43.800205",
     "exception": false,
     "start_time": "2023-08-15T13:26:36.157087",
     "status": "completed"
    },
    "tags": []
   },
   "outputs": [
    {
     "name": "stdout",
     "output_type": "stream",
     "text": [
      "Original join shape: (156311, 143)\n",
      "TF-IDF matrix shape: (156311, 1800)\n",
      "Concatenated join shape: (156311, 1942)\n"
     ]
    }
   ],
   "source": [
    "print(\"Original join shape:\", join.shape)\n",
    "rt = TfidfVectorizer(max_features=1800)\n",
    "tfidf_rt = rt.fit_transform(join[\"com_col\"])\n",
    "tfidf_df = pd.DataFrame(tfidf_rt.toarray(), columns=[f\"tf_{name}\" for name in rt.get_feature_names_out()])\n",
    "print(\"TF-IDF matrix shape:\", tfidf_df.shape)\n",
    "tfidf_df.reset_index(drop=True, inplace=True)\n",
    "join.reset_index(drop=True, inplace=True)\n",
    "join = pd.concat([join, tfidf_df], axis=1)\n",
    "join.drop('com_col', axis=1, inplace=True)\n",
    "print(\"Concatenated join shape:\", join.shape)\n",
    "x = join.drop(columns=['sentiment'])\n",
    "y = join['sentiment']"
   ]
  },
  {
   "cell_type": "code",
   "execution_count": 23,
   "id": "9ec9b1eb",
   "metadata": {
    "execution": {
     "iopub.execute_input": "2023-08-15T13:26:43.827187Z",
     "iopub.status.busy": "2023-08-15T13:26:43.826745Z",
     "iopub.status.idle": "2023-08-15T13:26:43.838489Z",
     "shell.execute_reply": "2023-08-15T13:26:43.837097Z"
    },
    "papermill": {
     "duration": 0.027412,
     "end_time": "2023-08-15T13:26:43.840458",
     "exception": false,
     "start_time": "2023-08-15T13:26:43.813046",
     "status": "completed"
    },
    "tags": []
   },
   "outputs": [
    {
     "name": "stdout",
     "output_type": "stream",
     "text": [
      "(156311, 1941)\n",
      "isTopCritic          bool\n",
      "audienceScore     float64\n",
      "runtimeMinutes    float64\n",
      "boxOffice         float64\n",
      "rating_NC-17        uint8\n",
      "                   ...   \n",
      "tf_youre          float64\n",
      "tf_yourself       float64\n",
      "tf_youth          float64\n",
      "tf_youve          float64\n",
      "tf_zombie         float64\n",
      "Length: 1941, dtype: object\n",
      "--\n",
      "(156311,)\n",
      "object\n"
     ]
    },
    {
     "data": {
      "text/plain": [
       "0    POSITIVE\n",
       "1    NEGATIVE\n",
       "2    POSITIVE\n",
       "3    POSITIVE\n",
       "4    POSITIVE\n",
       "Name: sentiment, dtype: object"
      ]
     },
     "execution_count": 23,
     "metadata": {},
     "output_type": "execute_result"
    }
   ],
   "source": [
    "print(x.shape)\n",
    "print(x.dtypes)\n",
    "print(\"--\")\n",
    "print(y.shape)\n",
    "print(y.dtypes)\n",
    "y.head()"
   ]
  },
  {
   "cell_type": "markdown",
   "id": "1069e9e7",
   "metadata": {
    "papermill": {
     "duration": 0.013926,
     "end_time": "2023-08-15T13:26:43.868453",
     "exception": false,
     "start_time": "2023-08-15T13:26:43.854527",
     "status": "completed"
    },
    "tags": []
   },
   "source": [
    "**Balancing the dataset using SMOTE oversampling**"
   ]
  },
  {
   "cell_type": "code",
   "execution_count": 24,
   "id": "daa2ee0b",
   "metadata": {
    "execution": {
     "iopub.execute_input": "2023-08-15T13:26:43.897174Z",
     "iopub.status.busy": "2023-08-15T13:26:43.896382Z",
     "iopub.status.idle": "2023-08-15T13:26:43.903537Z",
     "shell.execute_reply": "2023-08-15T13:26:43.901815Z"
    },
    "papermill": {
     "duration": 0.023352,
     "end_time": "2023-08-15T13:26:43.905380",
     "exception": false,
     "start_time": "2023-08-15T13:26:43.882028",
     "status": "completed"
    },
    "tags": []
   },
   "outputs": [
    {
     "name": "stdout",
     "output_type": "stream",
     "text": [
      "before smote\n",
      "(156311, 1941)\n",
      "(156311,)\n"
     ]
    }
   ],
   "source": [
    "print('before smote')\n",
    "print(x.shape)\n",
    "print(y.shape)"
   ]
  },
  {
   "cell_type": "code",
   "execution_count": 25,
   "id": "6123f753",
   "metadata": {
    "execution": {
     "iopub.execute_input": "2023-08-15T13:26:43.933171Z",
     "iopub.status.busy": "2023-08-15T13:26:43.932601Z",
     "iopub.status.idle": "2023-08-15T13:28:58.405879Z",
     "shell.execute_reply": "2023-08-15T13:28:58.403917Z"
    },
    "papermill": {
     "duration": 134.490197,
     "end_time": "2023-08-15T13:28:58.408582",
     "exception": false,
     "start_time": "2023-08-15T13:26:43.918385",
     "status": "completed"
    },
    "tags": []
   },
   "outputs": [],
   "source": [
    "smote = SMOTE(random_state=42)\n",
    "x, y = smote.fit_resample(x, y)"
   ]
  },
  {
   "cell_type": "code",
   "execution_count": 26,
   "id": "7ce13937",
   "metadata": {
    "execution": {
     "iopub.execute_input": "2023-08-15T13:28:58.437612Z",
     "iopub.status.busy": "2023-08-15T13:28:58.436963Z",
     "iopub.status.idle": "2023-08-15T13:28:58.442526Z",
     "shell.execute_reply": "2023-08-15T13:28:58.441086Z"
    },
    "papermill": {
     "duration": 0.022657,
     "end_time": "2023-08-15T13:28:58.444560",
     "exception": false,
     "start_time": "2023-08-15T13:28:58.421903",
     "status": "completed"
    },
    "tags": []
   },
   "outputs": [
    {
     "name": "stdout",
     "output_type": "stream",
     "text": [
      "after smote\n",
      "(209438, 1941)\n",
      "(209438,)\n"
     ]
    }
   ],
   "source": [
    "print('after smote')\n",
    "print(x.shape)\n",
    "print(y.shape)"
   ]
  },
  {
   "cell_type": "markdown",
   "id": "338bf082",
   "metadata": {
    "papermill": {
     "duration": 0.013415,
     "end_time": "2023-08-15T13:28:58.471606",
     "exception": false,
     "start_time": "2023-08-15T13:28:58.458191",
     "status": "completed"
    },
    "tags": []
   },
   "source": [
    "**Splitting and scaling the dataset**"
   ]
  },
  {
   "cell_type": "code",
   "execution_count": 27,
   "id": "18d6196f",
   "metadata": {
    "execution": {
     "iopub.execute_input": "2023-08-15T13:28:58.500154Z",
     "iopub.status.busy": "2023-08-15T13:28:58.499780Z",
     "iopub.status.idle": "2023-08-15T13:29:21.217405Z",
     "shell.execute_reply": "2023-08-15T13:29:21.215653Z"
    },
    "papermill": {
     "duration": 22.734642,
     "end_time": "2023-08-15T13:29:21.219981",
     "exception": false,
     "start_time": "2023-08-15T13:28:58.485339",
     "status": "completed"
    },
    "tags": []
   },
   "outputs": [
    {
     "name": "stdout",
     "output_type": "stream",
     "text": [
      "(167550, 1941)\n",
      "(167550,)\n",
      "(41888, 1941)\n",
      "(41888,)\n"
     ]
    }
   ],
   "source": [
    "x_train, x_test, y_train, y_test = train_test_split(x, y, test_size=0.2, random_state=42)\n",
    "\n",
    "scaler = MinMaxScaler()\n",
    "x_train = scaler.fit_transform(x_train)\n",
    "x_test = scaler.transform(x_test)\n",
    "\n",
    "print(x_train.shape)\n",
    "print(y_train.shape)\n",
    "print(x_test.shape)\n",
    "print(y_test.shape)"
   ]
  },
  {
   "cell_type": "code",
   "execution_count": 28,
   "id": "1d771ee1",
   "metadata": {
    "execution": {
     "iopub.execute_input": "2023-08-15T13:29:21.248878Z",
     "iopub.status.busy": "2023-08-15T13:29:21.248452Z",
     "iopub.status.idle": "2023-08-15T13:29:21.257290Z",
     "shell.execute_reply": "2023-08-15T13:29:21.256122Z"
    },
    "papermill": {
     "duration": 0.026764,
     "end_time": "2023-08-15T13:29:21.260290",
     "exception": false,
     "start_time": "2023-08-15T13:29:21.233526",
     "status": "completed"
    },
    "tags": []
   },
   "outputs": [
    {
     "data": {
      "text/plain": [
       "'pca = PCA(n_components=0.90, random_state=42)\\nx_train = pca.fit_transform(x_train)\\nx_test = pca.transform(x_test)\\nprint(\"Number of components retained:\", pca.n_components_)\\nprint(x_train.shape)'"
      ]
     },
     "execution_count": 28,
     "metadata": {},
     "output_type": "execute_result"
    }
   ],
   "source": [
    "'''pca = PCA(n_components=0.90, random_state=42)\n",
    "x_train = pca.fit_transform(x_train)\n",
    "x_test = pca.transform(x_test)\n",
    "print(\"Number of components retained:\", pca.n_components_)\n",
    "print(x_train.shape)'''"
   ]
  },
  {
   "cell_type": "markdown",
   "id": "d52ae76b",
   "metadata": {
    "papermill": {
     "duration": 0.014209,
     "end_time": "2023-08-15T13:29:21.287864",
     "exception": false,
     "start_time": "2023-08-15T13:29:21.273655",
     "status": "completed"
    },
    "tags": []
   },
   "source": [
    "**Training and validation**"
   ]
  },
  {
   "cell_type": "code",
   "execution_count": 29,
   "id": "4c6e5765",
   "metadata": {
    "execution": {
     "iopub.execute_input": "2023-08-15T13:29:21.318654Z",
     "iopub.status.busy": "2023-08-15T13:29:21.317007Z",
     "iopub.status.idle": "2023-08-15T14:12:29.918309Z",
     "shell.execute_reply": "2023-08-15T14:12:29.916746Z"
    },
    "papermill": {
     "duration": 2588.620601,
     "end_time": "2023-08-15T14:12:29.922206",
     "exception": false,
     "start_time": "2023-08-15T13:29:21.301605",
     "status": "completed"
    },
    "tags": []
   },
   "outputs": [
    {
     "name": "stdout",
     "output_type": "stream",
     "text": [
      "Best Hyperparameters:\n",
      "{'C': 10}\n",
      "Validation score:\n",
      "0.7906785800531272\n"
     ]
    }
   ],
   "source": [
    "#best_model = LogisticRegression(max_iter=500)\n",
    "#best_model.fit(x_train, y_train)\n",
    "\n",
    "#f1_scorer = make_scorer(f1_score, pos_label='POSITIVE')\n",
    "\n",
    "log_reg = LogisticRegression(max_iter=1000, n_jobs=-1)\n",
    "param_grid = {'C': [0.01, 0.1, 1, 10, 100]}\n",
    "grid_search = GridSearchCV(estimator=log_reg, param_grid=param_grid, cv=5, scoring='accuracy')\n",
    "grid_search.fit(x_train, y_train)\n",
    "best_params = grid_search.best_params_\n",
    "print(\"Best Hyperparameters:\")\n",
    "print(best_params)\n",
    "best_model = grid_search.best_estimator_\n",
    "\n",
    "\n",
    "'''label_encoder = LabelEncoder()\n",
    "y_train_encoded = label_encoder.fit_transform(y_train)\n",
    "y_test_encoded = label_encoder.transform(y_test)\n",
    "best_model = XGBClassifier()\n",
    "best_model.fit(x_train, y_train_encoded)\n",
    "y_pred_encoded = best_model.predict(x_test)\n",
    "y_pred = label_encoder.inverse_transform(y_pred_encoded)'''\n",
    "\n",
    "#best_model = GradientBoostingClassifier(n_estimators=100, random_state=42)\n",
    "#best_model.fit(x_train, y_train)\n",
    "\n",
    "#best_model = SVC(kernel='linear')\n",
    "#best_model.fit(x_train, y_train)\n",
    "\n",
    "#best_model = MultinomialNB()\n",
    "#best_model.fit(x_train, y_train)\n",
    "\n",
    "#best_model = DecisionTreeClassifier()\n",
    "#best_model.fit(x_train, y_train)\n",
    "\n",
    "\n",
    "y_pred = best_model.predict(x_test)\n",
    "val_score = f1_score(y_test, y_pred, pos_label='POSITIVE')\n",
    "print(\"Validation score:\")\n",
    "print(val_score)"
   ]
  },
  {
   "cell_type": "markdown",
   "id": "205caa26",
   "metadata": {
    "papermill": {
     "duration": 0.013898,
     "end_time": "2023-08-15T14:12:29.950222",
     "exception": false,
     "start_time": "2023-08-15T14:12:29.936324",
     "status": "completed"
    },
    "tags": []
   },
   "source": [
    "**Processing the test data and performing prediction**"
   ]
  },
  {
   "cell_type": "code",
   "execution_count": 30,
   "id": "6c66d6c4",
   "metadata": {
    "execution": {
     "iopub.execute_input": "2023-08-15T14:12:29.982890Z",
     "iopub.status.busy": "2023-08-15T14:12:29.982485Z",
     "iopub.status.idle": "2023-08-15T14:12:40.073345Z",
     "shell.execute_reply": "2023-08-15T14:12:40.071341Z"
    },
    "papermill": {
     "duration": 10.112045,
     "end_time": "2023-08-15T14:12:40.076251",
     "exception": false,
     "start_time": "2023-08-15T14:12:29.964206",
     "status": "completed"
    },
    "tags": []
   },
   "outputs": [],
   "source": [
    "test = pd.read_csv('/kaggle/input/sentiment-prediction-on-movie-reviews/test.csv')\n",
    "sample = pd.read_csv('/kaggle/input/sentiment-prediction-on-movie-reviews/sample.csv')\n",
    "\n",
    "join_t = test.merge(mov, on='movieid', how='left')\n",
    "join_t = join_t.drop(columns=['movieid', 'reviewerName', 'title', 'releaseDateTheaters', 'releaseDateStreaming', 'director', 'distributor', 'soundType'])\n",
    "join_t[\"reviewText\"] = join_t[\"reviewText\"].fillna(\"the\")\n",
    "join_t[\"ratingContents\"] = join_t[\"ratingContents\"].fillna(\"the\")\n",
    "join_t[\"reviewText\"] = join_t[\"reviewText\"].apply(remove_punctuations)\n",
    "join_t[\"ratingContents\"] = join_t[\"ratingContents\"].apply(remove_punctuations)\n",
    "\n",
    "join_t['com_col'] = join_t['reviewText'] + ' '+ join_t['ratingContents']\n",
    "join_t = join_t.drop(columns=['reviewText','ratingContents'])\n",
    "\n",
    "rating_oh_t = pd.get_dummies(join_t['rating'])\n",
    "rating_oh_t.columns = 'rating_' + rating_oh_t.columns\n",
    "join_t = pd.concat([join_t, rating_oh_t], axis=1)\n",
    "join_t.drop('rating', axis=1, inplace=True)\n",
    "\n",
    "join_t[\"genre\"] = join_t[\"genre\"].fillna(\"\")\n",
    "join_t[\"genre\"] = join_t[\"genre\"].apply(remove_punctuations)\n",
    "join_t['genre'] = join_t['genre'].str.lower()\n",
    "join_t['genre'] = join_t['genre'].str.replace('  ', ' ')\n",
    "genre_oh_t = join_t['genre'].str.get_dummies(sep=' ')\n",
    "genre_oh_t.columns = 'genre_' + genre_oh_t.columns\n",
    "join_t = pd.concat([join_t, genre_oh_t], axis=1)\n",
    "join_t.drop('genre', axis=1, inplace=True)\n",
    "\n",
    "lang_oh_t = pd.get_dummies(join_t['originalLanguage'])\n",
    "lang_oh_t.columns = 'lang_' + lang_oh_t.columns\n",
    "join_t = pd.concat([join_t, lang_oh_t], axis=1)\n",
    "join_t.drop('originalLanguage', axis=1, inplace=True)\n",
    "\n",
    "join_t['boxOffice'] = join_t['boxOffice'].apply(convert_box_office)\n",
    "\n",
    "join_t[mean_columns] = mean_imputer.transform(join_t[mean_columns])\n",
    "join_t[median_columns] = median_imputer.transform(join_t[median_columns])\n",
    "\n",
    "tfidf_rt_test = rt.transform(join_t[\"com_col\"])\n",
    "tfidf_df_test = pd.DataFrame(tfidf_rt_test.toarray(), columns=[f\"tf_{name}\" for name in rt.get_feature_names_out()])\n",
    "tfidf_df.reset_index(drop=True, inplace=True)\n",
    "join_t.reset_index(drop=True, inplace=True)\n",
    "join_t = pd.concat([join_t, tfidf_df_test], axis=1)\n",
    "join_t.drop('com_col', axis=1, inplace=True)\n",
    "join_t['lang_Azerbaijani'] = 0\n",
    "join_t = join_t.reindex(columns=x.columns)\n",
    "\n",
    "final_test = scaler.transform(join_t)\n",
    "\n",
    "#final_test = pca.transform(final_test)\n",
    "\n",
    "prediction = best_model.predict(final_test)\n",
    "\n",
    "#prediction = label_encoder.inverse_transform(prediction_encoded)\n",
    "\n",
    "sample = pd.read_csv('/kaggle/input/sentiment-prediction-on-movie-reviews/sample.csv')\n",
    "submission = pd.DataFrame(columns=['id', 'sentiment'])\n",
    "submission['id'] = [i for i in range(len(prediction))]\n",
    "submission['sentiment'] = prediction\n",
    "submission.to_csv('submission.csv', index=False)\n"
   ]
  },
  {
   "cell_type": "markdown",
   "id": "5c83cda0",
   "metadata": {
    "papermill": {
     "duration": 0.0132,
     "end_time": "2023-08-15T14:12:40.103160",
     "exception": false,
     "start_time": "2023-08-15T14:12:40.089960",
     "status": "completed"
    },
    "tags": []
   },
   "source": [
    "**Comparing different models and analysing the results:**\n",
    "\n",
    "- Scores from Decision Tree classifier: Validation score = 0.73469, Test score = 0.65184\n",
    "\n",
    "- Scores from MultinomialNB: Validation score = 0.73968, Test score = 0.71326\n",
    "\n",
    "- Scores from SVC(kernel='linear'): Validation score = 0.79330, Test score = 0.76420\n",
    "\n",
    "- Scores from GradienrBoostClassifier(n_estimator=100, random_state=42): Validation score = 0.77048, Test score = 0.71895\n",
    "\n",
    "- Scores from XGBClassifier: Validation score = 0.82543, Test score = 0.76585\n",
    "\n",
    "- Scores from Logistic Regression after tuning hyperparameters using GridSearchCV (cv=5, C=10): Validation score = 0.78388, Test score = 0.77000\n",
    "\n",
    "- Scores from LogisticRegression(max_iter=500): Validation score = 0.78487, Test score = 0.76966\n",
    "\n",
    "- The Linear SVC model offers a good balance between training and test performance, making it a reliable choice for sentiment analysis on this dataset.\n",
    "\n",
    "- The logistic regression models, both with and without hyperparameter tuning, perform the best, showing that they capture the relationships well.\n",
    "\n",
    "- XGBClassifier achieves the highest validation score but its test score is lower than logistic regression. XGBClassifier and Decision Tree Classifier exhibit some overfitting.\n",
    "\n",
    "- Overall, the linear SVC, logistic regression and XGBClassifier models appear to be the best options for sentiment analysis on this dataset."
   ]
  },
  {
   "cell_type": "markdown",
   "id": "62c491a1",
   "metadata": {
    "papermill": {
     "duration": 0.013592,
     "end_time": "2023-08-15T14:12:40.130216",
     "exception": false,
     "start_time": "2023-08-15T14:12:40.116624",
     "status": "completed"
    },
    "tags": []
   },
   "source": [
    "**Imporant insights about the dataset:**\n",
    "\n",
    "- The column \"reviewText\" forms the core of training data. After performing feature extraction from the text using TfIdf vectoriser, we are able to perform proper sentiment prediction. The other columns do help improve the accuracy of the model that we train.\n",
    "\n",
    "- Models with similar validation and test scores, such as Linear SVC and Logistic Regression, exhibit better generalization to unseen data. This indicates that these models are well-suited for sentiment analysis tasks and deployment.\n",
    "\n",
    "- As Linear SVC and Logistic Regression perform better than most of the other models, it's safe to say that the data is linearly separable to a good extent.\n",
    "\n",
    "- Using techniques like GridSearchCV and RandomizedSearchCV to fine-tune hyperparameters, particularly for Logistic Regression, shows the importance of hyperparameter optimization in achieving better model performance.\n",
    "\n",
    "- Using techniques like k-fold cross-validation guarantees reliable model evaluation against data variations, increasing the credibility of the results."
   ]
  }
 ],
 "metadata": {
  "kernelspec": {
   "display_name": "Python 3",
   "language": "python",
   "name": "python3"
  },
  "language_info": {
   "codemirror_mode": {
    "name": "ipython",
    "version": 3
   },
   "file_extension": ".py",
   "mimetype": "text/x-python",
   "name": "python",
   "nbconvert_exporter": "python",
   "pygments_lexer": "ipython3",
   "version": "3.10.10"
  },
  "papermill": {
   "default_parameters": {},
   "duration": 2793.05602,
   "end_time": "2023-08-15T14:12:43.178938",
   "environment_variables": {},
   "exception": null,
   "input_path": "__notebook__.ipynb",
   "output_path": "__notebook__.ipynb",
   "parameters": {},
   "start_time": "2023-08-15T13:26:10.122918",
   "version": "2.4.0"
  }
 },
 "nbformat": 4,
 "nbformat_minor": 5
}
